{
 "cells": [
  {
   "cell_type": "code",
   "execution_count": 1,
   "id": "010864cb",
   "metadata": {},
   "outputs": [
    {
     "name": "stdout",
     "output_type": "stream",
     "text": [
      "Found 70295 files belonging to 38 classes.\n",
      "Found 17572 files belonging to 38 classes.\n"
     ]
    }
   ],
   "source": [
    "import warnings\n",
    "warnings.filterwarnings(\"ignore\")\n",
    "\n",
    "import tensorflow as tf\n",
    "from tensorflow import keras\n",
    "from tensorflow.keras.layers.experimental.preprocessing import Rescaling\n",
    "\n",
    "import numpy as np\n",
    "from sklearn.metrics import precision_score, accuracy_score, recall_score, confusion_matrix, ConfusionMatrixDisplay\n",
    "\n",
    "from tensorflow.keras.callbacks import EarlyStopping\n",
    "\n",
    "# Set random seeds for reproducibility\n",
    "tf.random.set_seed(0)\n",
    "np.random.seed(0)\n",
    "\n",
    "# Use tf.keras.utils.image_dataset_from_directory to create image datasets\n",
    "train_gen = tf.keras.utils.image_dataset_from_directory(\n",
    "    'C:/Users/sanja/Downloads/PlantData/New Plant Diseases Dataset(Augmented)/train',\n",
    "    labels='inferred',\n",
    "    label_mode='categorical',\n",
    "    color_mode='rgb',\n",
    "    batch_size=128,\n",
    "    shuffle=True,\n",
    "    seed=0\n",
    ")\n",
    "\n",
    "test_gen = tf.keras.utils.image_dataset_from_directory(\n",
    "    'C:/Users/sanja/Downloads/PlantData/New Plant Diseases Dataset(Augmented)/valid',\n",
    "    labels='inferred',\n",
    "    label_mode='categorical',\n",
    "    color_mode='rgb',\n",
    "    batch_size=128,\n",
    "    shuffle=True,\n",
    "    seed=0\n",
    ")\n",
    "\n",
    "# Rescale the pixel values\n",
    "rescale = Rescaling(scale=1.0 / 255)\n",
    "\n",
    "train_gen = train_gen.map(lambda image, label: (rescale(image), label))\n",
    "test_gen = test_gen.map(lambda image, label: (rescale(image), label))\n"
   ]
  },
  {
   "cell_type": "code",
   "execution_count": 2,
   "id": "4febee73",
   "metadata": {},
   "outputs": [
    {
     "name": "stdout",
     "output_type": "stream",
     "text": [
      "Num GPUs Available:  0\n"
     ]
    }
   ],
   "source": [
    "import tensorflow as tf\n",
    "print(\"Num GPUs Available: \", len(tf.config.list_physical_devices('GPU')))\n"
   ]
  },
  {
   "cell_type": "code",
   "execution_count": null,
   "id": "2c9bf8c6",
   "metadata": {},
   "outputs": [
    {
     "name": "stdout",
     "output_type": "stream",
     "text": [
      "Model: \"sequential\"\n",
      "_________________________________________________________________\n",
      " Layer (type)                Output Shape              Param #   \n",
      "=================================================================\n",
      " conv2d (Conv2D)             (None, 256, 256, 32)      896       \n",
      "                                                                 \n",
      " conv2d_1 (Conv2D)           (None, 256, 256, 32)      9248      \n",
      "                                                                 \n",
      " max_pooling2d (MaxPooling2D  (None, 85, 85, 32)       0         \n",
      " )                                                               \n",
      "                                                                 \n",
      " conv2d_2 (Conv2D)           (None, 85, 85, 64)        18496     \n",
      "                                                                 \n",
      " conv2d_3 (Conv2D)           (None, 85, 85, 64)        36928     \n",
      "                                                                 \n",
      " max_pooling2d_1 (MaxPooling  (None, 28, 28, 64)       0         \n",
      " 2D)                                                             \n",
      "                                                                 \n",
      " conv2d_4 (Conv2D)           (None, 28, 28, 128)       73856     \n",
      "                                                                 \n",
      " conv2d_5 (Conv2D)           (None, 28, 28, 128)       147584    \n",
      "                                                                 \n",
      " max_pooling2d_2 (MaxPooling  (None, 9, 9, 128)        0         \n",
      " 2D)                                                             \n",
      "                                                                 \n",
      " conv2d_6 (Conv2D)           (None, 9, 9, 256)         295168    \n",
      "                                                                 \n",
      " conv2d_7 (Conv2D)           (None, 9, 9, 256)         590080    \n",
      "                                                                 \n",
      " conv2d_8 (Conv2D)           (None, 9, 9, 512)         3277312   \n",
      "                                                                 \n",
      " conv2d_9 (Conv2D)           (None, 9, 9, 512)         6554112   \n",
      "                                                                 \n",
      " flatten (Flatten)           (None, 41472)             0         \n",
      "                                                                 \n",
      " dense (Dense)               (None, 1568)              65029664  \n",
      "                                                                 \n",
      " dropout (Dropout)           (None, 1568)              0         \n",
      "                                                                 \n",
      " dense_1 (Dense)             (None, 38)                59622     \n",
      "                                                                 \n",
      "=================================================================\n",
      "Total params: 76,092,966\n",
      "Trainable params: 76,092,966\n",
      "Non-trainable params: 0\n",
      "_________________________________________________________________\n",
      "Epoch 1/10\n",
      "550/550 [==============================] - ETA: 0s - loss: 2.1881 - accuracy: 0.3719"
     ]
    }
   ],
   "source": [
    "\n",
    "# Create your model\n",
    "model = keras.Sequential()\n",
    "\n",
    "model.add(keras.layers.Conv2D(32, (3, 3), activation=\"relu\", padding=\"same\", input_shape=(256, 256, 3)))\n",
    "model.add(keras.layers.Conv2D(32, (3, 3), activation=\"relu\", padding=\"same\"))\n",
    "model.add(keras.layers.MaxPooling2D(pool_size=(3, 3)))\n",
    "\n",
    "model.add(keras.layers.Conv2D(64, (3, 3), activation=\"relu\", padding=\"same\"))\n",
    "model.add(keras.layers.Conv2D(64, (3, 3), activation=\"relu\", padding=\"same\"))\n",
    "model.add(keras.layers.MaxPooling2D(pool_size=(3, 3)))\n",
    "\n",
    "model.add(keras.layers.Conv2D(128, (3, 3), activation=\"relu\", padding=\"same\"))\n",
    "model.add(keras.layers.Conv2D(128, (3, 3), activation=\"relu\", padding=\"same\"))\n",
    "model.add(keras.layers.MaxPooling2D(pool_size=(3, 3)))\n",
    "\n",
    "model.add(keras.layers.Conv2D(256, (3, 3), activation=\"relu\", padding=\"same\"))\n",
    "model.add(keras.layers.Conv2D(256, (3, 3), activation=\"relu\", padding=\"same\"))\n",
    "\n",
    "model.add(keras.layers.Conv2D(512, (5, 5), activation=\"relu\", padding=\"same\"))\n",
    "model.add(keras.layers.Conv2D(512, (5, 5), activation=\"relu\", padding=\"same\"))\n",
    "\n",
    "model.add(keras.layers.Flatten())\n",
    "\n",
    "model.add(keras.layers.Dense(1568, activation=\"relu\"))\n",
    "model.add(keras.layers.Dropout(0.5))\n",
    "\n",
    "model.add(keras.layers.Dense(38, activation=\"softmax\"))\n",
    "\n",
    "opt = keras.optimizers.Adam(learning_rate=0.0001)\n",
    "model.compile(optimizer=opt, loss=\"categorical_crossentropy\", metrics=['accuracy'])\n",
    "model.summary()\n",
    "\n",
    "# Define the early stopping criteria\n",
    "early_stop = EarlyStopping(monitor='val_loss', patience=3, verbose=1, mode='min')\n",
    "# Train your model using the 'fit' method\n",
    "ep = 10\n",
    "history = model.fit(train_gen, validation_data=test_gen, epochs=ep, callbacks=[early_stop])\n"
   ]
  },
  {
   "cell_type": "code",
   "execution_count": null,
   "id": "863c02d4",
   "metadata": {},
   "outputs": [],
   "source": []
  }
 ],
 "metadata": {
  "kernelspec": {
   "display_name": "Python 3 (ipykernel)",
   "language": "python",
   "name": "python3"
  },
  "language_info": {
   "codemirror_mode": {
    "name": "ipython",
    "version": 3
   },
   "file_extension": ".py",
   "mimetype": "text/x-python",
   "name": "python",
   "nbconvert_exporter": "python",
   "pygments_lexer": "ipython3",
   "version": "3.9.18"
  }
 },
 "nbformat": 4,
 "nbformat_minor": 5
}
